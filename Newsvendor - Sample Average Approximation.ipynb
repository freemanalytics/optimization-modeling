{
 "cells": [
  {
   "cell_type": "markdown",
   "id": "7fec60c1-5187-4dcb-a453-ff2c44c36cfe",
   "metadata": {},
   "source": [
    "The newsvendor is a mathematical model used to determine the optimal order quantity for a situation with fixed unit costs and uncertain demand for a perishable product. If the order quantity is $q$, each unit of demand above $q$ is a lost sale. The standard newsvendor profit function is $\\mathbb{E}[Profit] =\\mathbb{E}\\left[p\\min(q,D)\\right]-cq$, where:\n",
    "- $D$ is a random variable with probability distribution $F$ representing demand,\n",
    "- each unit is sold for price $p$,\n",
    "- each unit is purchased for price $c$,\n",
    "- $q$ is the number of units stocked, and\n",
    "- $\\mathbb{E}$ is the expectation operator.\n",
    "\n",
    "It can be shown that the order quantity that maximizes expected profit is:\n",
    "\n",
    "$$q^{*}=F^{-1}\\left(\\frac{p-c}{p}\\right),$$ \n",
    "where $F^{-1}$ denotes the inverse cumulative distribution function of $D$."
   ]
  },
  {
   "cell_type": "code",
   "execution_count": null,
   "id": "ea4b1d1c-f8e1-4c0e-95e0-8008739aa257",
   "metadata": {},
   "outputs": [],
   "source": [
    "import gurobipy\n",
    "import matplotlib.pyplot as plt\n",
    "import numpy as np\n",
    "import pandas as pd\n",
    "import seaborn as sns\n",
    "from tqdm.auto import tqdm\n",
    "\n",
    "import optutilities"
   ]
  },
  {
   "cell_type": "markdown",
   "id": "20f1817d-1387-44b2-8ad8-4757e7fbb68c",
   "metadata": {},
   "source": [
    "We will use a sample average approximation to (approximately) solve the newsvendor problem using Gurobi. The specific formulation we will use follows."
   ]
  },
  {
   "cell_type": "markdown",
   "id": "f2e08f7b-3bb8-48f4-9bb9-9fdef2b6a80c",
   "metadata": {},
   "source": [
    "<u>Set(s)</u></br>\n",
    "$S$ - scenarios, $s\\in\\{1, \\ldots, n\\}$\n",
    "\n",
    "<u>Parameters</u></br>\n",
    "$c$ - unit cost</br>\n",
    "$p$ - revenue</br>\n",
    "$d_{s}$ - demand in scenario $s$\n",
    "\n",
    "<u>Decision Variables</u></br>\n",
    "$q$ - order quantity\n",
    "$X_{s}$ - sales in scenario $s$\n",
    "\n",
    "\n",
    "\\begin{align}\n",
    "max \\frac{1}{|S|}\\left(\\sum_{s\\in S}pX_{s}\\right) - cq\\\\\n",
    "subject~to\\qquad\\qquad\\qquad\\qquad\\qquad\\\\\n",
    "X_{s} \\leq d_{s}, \\forall s \\in S.\\\\\n",
    "X_{s} \\leq q, \\forall s \\in S.\\\\\n",
    "X_{s} \\geq 0, \\forall s \\in S.\\\\ \n",
    "q \\geq 0.\\\\\n",
    "\\end{align}"
   ]
  },
  {
   "cell_type": "markdown",
   "id": "bcdd0855-63a6-49b4-b4ba-b13d885c3997",
   "metadata": {},
   "source": [
    "The following code block randomly generates an array that we will assume represents a distribution for the historical sales of similar products."
   ]
  },
  {
   "cell_type": "code",
   "execution_count": null,
   "id": "0264c341-c55e-4b7b-a163-90c55e627364",
   "metadata": {},
   "outputs": [],
   "source": [
    "np.random.seed(0)\n",
    "\n",
    "historical_sales = np.random.poisson(\n",
    "    1000, \n",
    "    size=250,\n",
    ")\n",
    "\n",
    "optutilities.distribution_fitting.plot_histogram_for_single_array(historical_sales)"
   ]
  },
  {
   "cell_type": "markdown",
   "id": "632f005c-dbe4-4d23-98b9-896ec1c1bc16",
   "metadata": {},
   "source": [
    "The following code block calls a function that uses `scipy` to fit a parametric distribution to the data."
   ]
  },
  {
   "cell_type": "code",
   "execution_count": null,
   "id": "e873ad9b-8aa6-4ad2-9b65-2acaaf54c3f5",
   "metadata": {},
   "outputs": [],
   "source": [
    "best_distribution = optutilities.distribution_fitting.get_best_parametric_distribution(historical_sales)"
   ]
  },
  {
   "cell_type": "markdown",
   "id": "75c7f9c0-4842-4b21-be7e-c99d9dea98ee",
   "metadata": {},
   "source": [
    "The following code block plots the historical data and a random sample from the fit distribution."
   ]
  },
  {
   "cell_type": "code",
   "execution_count": null,
   "id": "fc910a65-bb67-4c99-a838-c80c1c0cdac5",
   "metadata": {},
   "outputs": [],
   "source": [
    "optutilities.distribution_fitting.plot_histogram_for_two_arrays(\n",
    "    array1=historical_sales,\n",
    "    array2=best_distribution.rvs(len(historical_sales)),\n",
    "    array1_label='Historical Data',\n",
    "    array2_label='Sample',\n",
    ")"
   ]
  },
  {
   "cell_type": "markdown",
   "id": "4341cad3-d40e-4db0-89cf-107d59d199cb",
   "metadata": {},
   "source": [
    "The following code block shows how we can use the `scipy` distribution object to compute the value of the Cumulative Distribution Function (CDF) for a range of possible values of the random variable represented by the distribution."
   ]
  },
  {
   "cell_type": "code",
   "execution_count": null,
   "id": "16bf6181-47d5-4819-a9c0-6ad25d3dda0f",
   "metadata": {},
   "outputs": [],
   "source": [
    "x_values = np.arange(900, 1101, 1)\n",
    "cdf_percentiles = best_distribution.cdf(x_values)\n",
    "\n",
    "fig, ax = plt.subplots(1, 1, figsize=(6, 4))\n",
    "\n",
    "sns.lineplot(\n",
    "    x=x_values,\n",
    "    y=cdf_percentiles,\n",
    ")\n",
    "ax.spines[['right', 'top']].set_visible(False)\n",
    "ax.set_xlabel('Demand')\n",
    "ax.set_ylabel('Cumulative Probability')\n",
    "\n",
    "plt.show()"
   ]
  },
  {
   "cell_type": "markdown",
   "id": "466a90f3-b99b-414f-bbb0-c01350532a6f",
   "metadata": {},
   "source": [
    "The mathematical method for computing the optimal newsvendor order quantity relies on the inverse of the CDF. The following code block shows how we can use the `scipy` distribution object to compute these values for a range of target probabilities."
   ]
  },
  {
   "cell_type": "code",
   "execution_count": null,
   "id": "391a21e6-cfb5-42c7-8f21-67eef820dd8e",
   "metadata": {},
   "outputs": [],
   "source": [
    "cdf_percentiles = np.arange(0.001, 0.999, 0.001)\n",
    "x_values = best_distribution.ppf(cdf_percentiles)\n",
    "\n",
    "fig, ax = plt.subplots(1, 1, figsize=(6, 4))\n",
    "\n",
    "sns.lineplot(\n",
    "    x=x_values,\n",
    "    y=cdf_percentiles,\n",
    ")\n",
    "ax.spines[['right', 'top']].set_visible(False)\n",
    "ax.set_xlabel('Demand')\n",
    "ax.set_ylabel('Cumulative Probability')\n",
    "\n",
    "plt.show()"
   ]
  },
  {
   "cell_type": "markdown",
   "id": "d394cf22-df17-4b31-856d-f47a239951b1",
   "metadata": {},
   "source": [
    "The following code block defines the parameters we will need to solve the newsvendor instance and computes the optimal order quantity using the mathematical equation given at the beginning of the notebook. "
   ]
  },
  {
   "cell_type": "code",
   "execution_count": null,
   "id": "4fc8d822-759e-4b8e-a34e-0d1c74bb3c20",
   "metadata": {},
   "outputs": [],
   "source": [
    "p = 10\n",
    "c = 5\n",
    "n = 100\n",
    "scenarios = [i for i in range(1, n+1)]\n",
    "d = {}\n",
    "for scenario, demand_value in zip(scenarios, best_distribution.rvs(n)):\n",
    "    d[scenario] = demand_value\n",
    "\n",
    "optimal_order_quantity = best_distribution.ppf((p - c)/p)\n",
    "print(f' - {optimal_order_quantity = :.2f}')"
   ]
  },
  {
   "cell_type": "markdown",
   "id": "e62dfc29-d4a2-455f-8ba6-19752e14a31a",
   "metadata": {},
   "source": [
    "The Gurobi model is constructed and solved in the following code block."
   ]
  },
  {
   "cell_type": "code",
   "execution_count": null,
   "id": "21e212ff-c21d-4f94-bf2d-1978fe166689",
   "metadata": {},
   "outputs": [],
   "source": [
    "model = gurobipy.Model()\n",
    "\n",
    "q = model.addVar(name='q')\n",
    "X = model.addVars(\n",
    "    scenarios,\n",
    "    name='X',\n",
    ")\n",
    "\n",
    "unit_costs = c*q\n",
    "expected_revenue = gurobipy.LinExpr()\n",
    "for s in scenarios:\n",
    "    expected_revenue.add(p*X[s])\n",
    "expected_revenue = expected_revenue/len(scenarios)\n",
    "expected_profit = expected_revenue - unit_costs\n",
    "\n",
    "model.setObjective(\n",
    "    expected_profit,\n",
    "    sense=gurobipy.GRB.MAXIMIZE,\n",
    ")\n",
    "\n",
    "for s in scenarios:\n",
    "    model.addConstr(X[s] <= d[s], f'X{s} <= d{s}')\n",
    "\n",
    "for s in scenarios:\n",
    "    model.addConstr(X[s] <= q, f'X{s} <= d{s}')\n",
    "\n",
    "model.optimize()\n",
    "\n",
    "order_quantity = q.x\n",
    "optimal_expected_profit = expected_profit.getValue()\n",
    "\n",
    "print('-'*40)\n",
    "print(f' - Gurobi order quantity: {order_quantity:,.2f}')\n",
    "print(f' - Gurobi expceted profit: {optimal_expected_profit:,.2f}')"
   ]
  },
  {
   "cell_type": "markdown",
   "id": "eef8ccd2-85e5-435a-b46e-2e7b9170577d",
   "metadata": {},
   "source": [
    "The following code defines a loop that we will use to visualize how the order quantity selected by Gurobi varies as we increase the number of scenarios."
   ]
  },
  {
   "cell_type": "code",
   "execution_count": null,
   "id": "14f60805-cf90-4abd-ac44-8382b2728952",
   "metadata": {},
   "outputs": [],
   "source": [
    "p = 10\n",
    "c = 5\n",
    "optimal_order_quantity = best_distribution.ppf((p - c)/p)\n",
    "\n",
    "solution_dict = {}\n",
    "for n in tqdm(range(1, 251, 1)):\n",
    "    \n",
    "    scenarios = [i for i in range(1, n+1)]\n",
    "    d = {}\n",
    "    for scenario, demand_value in zip(scenarios, best_distribution.rvs(n)):\n",
    "        d[scenario] = demand_value\n",
    "    \n",
    "    model = gurobipy.Model()\n",
    "    model.setParam('OutputFlag', 0)\n",
    "    \n",
    "    q = model.addVar(name='q')\n",
    "    X = model.addVars(\n",
    "        scenarios,\n",
    "        name='X',\n",
    "    )\n",
    "    \n",
    "    unit_costs = c*q\n",
    "    expected_revenue = gurobipy.LinExpr()\n",
    "    for s in scenarios:\n",
    "        expected_revenue.add(p*X[s])\n",
    "    expected_revenue = expected_revenue/len(scenarios)\n",
    "    expected_profit = expected_revenue - unit_costs\n",
    "    \n",
    "    model.setObjective(\n",
    "        expected_profit,\n",
    "        sense=gurobipy.GRB.MAXIMIZE,\n",
    "    )\n",
    "    \n",
    "    for s in scenarios:\n",
    "        model.addConstr(X[s] <= d[s], f'X{s} <= d{s}')\n",
    "    \n",
    "    for s in scenarios:\n",
    "        model.addConstr(X[s] <= q, f'X{s} <= d{s}')\n",
    "    \n",
    "    model.optimize()\n",
    "    \n",
    "    order_quantity = q.x\n",
    "    optimal_expected_profit = expected_profit.getValue()\n",
    "\n",
    "    solution_dict[n] = {\n",
    "        'q': order_quantity,\n",
    "    }"
   ]
  },
  {
   "cell_type": "markdown",
   "id": "1d8e54aa-5fa1-40f5-9d1f-b77ca4e5319d",
   "metadata": {},
   "source": [
    "The visualization follows and shows how the order quantity selected by Gurobi converges towards the true optimal value as the number of scenarios increases."
   ]
  },
  {
   "cell_type": "code",
   "execution_count": null,
   "id": "77d327e3-76c8-4343-a5ce-0e84b79dfc7f",
   "metadata": {},
   "outputs": [],
   "source": [
    "solution_df = pd.DataFrame.from_dict(\n",
    "    solution_dict,\n",
    "    orient='index',\n",
    ").reset_index().rename(\n",
    "    columns={'index': 'n'}\n",
    ")\n",
    "\n",
    "fig, ax = plt.subplots(1, 1, figsize=(10, 4))\n",
    "\n",
    "sns.lineplot(\n",
    "    x=solution_df['n'],\n",
    "    y=solution_df['q'],\n",
    "    ax=ax,\n",
    ")\n",
    "ax.axhline(\n",
    "    y=optimal_order_quantity,\n",
    "    color='k',\n",
    "    linestyle='--',\n",
    ")\n",
    "\n",
    "ax.spines[['right', 'top']].set_visible(False)\n",
    "\n",
    "plt.show()"
   ]
  }
 ],
 "metadata": {
  "kernelspec": {
   "display_name": "Python 3 (ipykernel)",
   "language": "python",
   "name": "python3"
  },
  "language_info": {
   "codemirror_mode": {
    "name": "ipython",
    "version": 3
   },
   "file_extension": ".py",
   "mimetype": "text/x-python",
   "name": "python",
   "nbconvert_exporter": "python",
   "pygments_lexer": "ipython3",
   "version": "3.12.2"
  }
 },
 "nbformat": 4,
 "nbformat_minor": 5
}
